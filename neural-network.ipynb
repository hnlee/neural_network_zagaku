{
 "cells": [
  {
   "cell_type": "code",
   "execution_count": null,
   "metadata": {},
   "outputs": [],
   "source": [
    "import pandas as pd\n",
    "import urllib.request"
   ]
  },
  {
   "cell_type": "code",
   "execution_count": null,
   "metadata": {},
   "outputs": [],
   "source": [
    "DATA_URL = \"https://s3.us-east-2.amazonaws.com/hnlee-public/mnist-train.csv\"\n",
    "data_csv = urllib.request.urlretrieve(DATA_URL, \"train.csv\")\n",
    "data = pd.read_csv(\"train.csv\")\n",
    "data.head()"
   ]
  },
  {
   "cell_type": "code",
   "execution_count": null,
   "metadata": {},
   "outputs": [],
   "source": [
    "data.shape"
   ]
  },
  {
   "cell_type": "code",
   "execution_count": null,
   "metadata": {},
   "outputs": [],
   "source": [
    "inputs = data[data.columns[1:]]\n",
    "inputs.head()"
   ]
  },
  {
   "cell_type": "code",
   "execution_count": null,
   "metadata": {},
   "outputs": [],
   "source": [
    "outputs = data[\"label\"]\n",
    "outputs.head()"
   ]
  },
  {
   "cell_type": "code",
   "execution_count": null,
   "metadata": {},
   "outputs": [],
   "source": [
    "from sklearn.model_selection import train_test_split\n",
    "\n",
    "train_inputs, test_inputs, train_outputs, test_outputs = train_test_split(inputs, \n",
    "                                                                          outputs, \n",
    "                                                                          test_size=0.3, \n",
    "                                                                          random_state=999)"
   ]
  },
  {
   "cell_type": "code",
   "execution_count": null,
   "metadata": {},
   "outputs": [],
   "source": [
    "from sklearn.neural_network import MLPClassifier\n",
    "\n",
    "model = MLPClassifier().fit(train_inputs, train_outputs)"
   ]
  },
  {
   "cell_type": "code",
   "execution_count": null,
   "metadata": {},
   "outputs": [],
   "source": [
    "model.score(test_inputs, test_outputs)"
   ]
  },
  {
   "cell_type": "code",
   "execution_count": null,
   "metadata": {},
   "outputs": [],
   "source": [
    "CHECK_URL = \"https://s3.us-east-2.amazonaws.com/hnlee-public/mnist-test.csv\"\n",
    "check_csv = urllib.request.urlretrieve(CHECK_URL, \"test.csv\")\n",
    "check = pd.read_csv(\"test.csv\")\n",
    "check.head()"
   ]
  },
  {
   "cell_type": "code",
   "execution_count": null,
   "metadata": {},
   "outputs": [],
   "source": [
    "check.shape"
   ]
  },
  {
   "cell_type": "code",
   "execution_count": null,
   "metadata": {},
   "outputs": [],
   "source": [
    "import matplotlib.pyplot as plt\n",
    "import random\n",
    "\n",
    "def plot_and_predict_pixels(pixel_array, trained_model):\n",
    "    prediction = trained_model.predict(pixel_array.values.reshape(1, -1))[0]\n",
    "    plt.imshow(pixel_array.values.reshape((28, 28)),\n",
    "               cmap=\"binary\")\n",
    "    plt.title(\"Prediction = {}\".format(prediction),\n",
    "              loc=\"center\")\n",
    "\n",
    "def check_random_sample(data_set, trained_model):\n",
    "    nrows = data_set.shape[0]\n",
    "    random_row = random.randint(0, nrows - 1)\n",
    "    pixels = data_set.iloc[random_row]\n",
    "    plot_and_predict_pixels(pixels, trained_model)"
   ]
  },
  {
   "cell_type": "code",
   "execution_count": null,
   "metadata": {},
   "outputs": [],
   "source": [
    "check_random_sample(check, model)"
   ]
  }
 ],
 "metadata": {
  "kernelspec": {
   "display_name": "Python 3",
   "language": "python",
   "name": "python3"
  },
  "language_info": {
   "codemirror_mode": {
    "name": "ipython",
    "version": 3
   },
   "file_extension": ".py",
   "mimetype": "text/x-python",
   "name": "python",
   "nbconvert_exporter": "python",
   "pygments_lexer": "ipython3",
   "version": "3.6.3"
  }
 },
 "nbformat": 4,
 "nbformat_minor": 2
}
